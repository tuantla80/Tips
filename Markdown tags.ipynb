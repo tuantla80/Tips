{
 "cells": [
  {
   "cell_type": "markdown",
   "metadata": {},
   "source": [
    "# Markdown tags in Jupyter notebook"
   ]
  },
  {
   "cell_type": "markdown",
   "metadata": {},
   "source": [
    "## Headings \n",
    "Use #s followed by a blank space  \n",
    "> - *#* title \n",
    "> - *##* major headings \n",
    "> - *###* subheadings \n",
    "> - *####* 4th level subheadings"
   ]
  },
  {
   "cell_type": "markdown",
   "metadata": {},
   "source": [
    "## Turn off the a markdonw tags  \n",
    "Using triple backticks ```  \n",
    "Refer to the code in **Emphasis** below."
   ]
  },
  {
   "cell_type": "markdown",
   "metadata": {},
   "source": [
    "## Emphasis  \n",
    "> - **Bold**: ``` *string** or __ string __ ```\n",
    "> - *Italic*: ``` *string* or _string_ ```"
   ]
  },
  {
   "cell_type": "markdown",
   "metadata": {},
   "source": [
    "## Math symbols  \n",
    "> ``` $ symbols $ ```"
   ]
  },
  {
   "cell_type": "markdown",
   "metadata": {},
   "source": [
    "## Line break  \n",
    "- Option 1: doube space + enter \n",
    "- Option 2: ``` <br> ```"
   ]
  },
  {
   "cell_type": "markdown",
   "metadata": {},
   "source": [
    "## Colors  \n",
    "``` <font color=blue|red|green|pink|yellow>Text Content</font> ```"
   ]
  },
  {
   "cell_type": "markdown",
   "metadata": {},
   "source": [
    "## Indented quote  \n",
    "``` >  with a space + Text Content ```"
   ]
  },
  {
   "cell_type": "markdown",
   "metadata": {},
   "source": [
    "## Bullets  \n",
    "``` - with a space + Text Content ```"
   ]
  },
  {
   "cell_type": "markdown",
   "metadata": {},
   "source": [
    "## Numbered lists  \n",
    "``` 1. with a space + Text Content ```"
   ]
  },
  {
   "cell_type": "markdown",
   "metadata": {},
   "source": [
    "## Adding an image  \n",
    "``` <img src=\"url.ong\" alt=\"Alternative\" title=\"Title text\" /> ```"
   ]
  },
  {
   "cell_type": "markdown",
   "metadata": {},
   "source": [
    "## Horizontal lines  \n",
    "``` *** ```"
   ]
  },
  {
   "cell_type": "markdown",
   "metadata": {},
   "source": [
    "## Internal links  \n",
    "- Option 1: ``` [section title](#section-title) ```  \n",
    "- Option 2: First adding id ``` <a id=\"section_ID\"></a> ```  \n",
    "Then ``` [section title](#section_ID) ```               "
   ]
  },
  {
   "cell_type": "markdown",
   "metadata": {},
   "source": [
    "## External links  \n",
    "```  [link text](http://url) ```"
   ]
  }
 ],
 "metadata": {
  "kernelspec": {
   "display_name": "Python 3",
   "language": "python",
   "name": "python3"
  },
  "language_info": {
   "codemirror_mode": {
    "name": "ipython",
    "version": 3
   },
   "file_extension": ".py",
   "mimetype": "text/x-python",
   "name": "python",
   "nbconvert_exporter": "python",
   "pygments_lexer": "ipython3",
   "version": "3.6.5"
  }
 },
 "nbformat": 4,
 "nbformat_minor": 2
}
